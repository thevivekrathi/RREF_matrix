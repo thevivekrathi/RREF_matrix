{
  "nbformat": 4,
  "nbformat_minor": 0,
  "metadata": {
    "colab": {
      "name": "RREF_Matrix.ipynb",
      "provenance": [],
      "authorship_tag": "ABX9TyOmMDawNG2B2JF/jpt7UMjT",
      "include_colab_link": true
    },
    "kernelspec": {
      "name": "python3",
      "display_name": "Python 3"
    },
    "language_info": {
      "name": "python"
    }
  },
  "cells": [
    {
      "cell_type": "markdown",
      "metadata": {
        "id": "view-in-github",
        "colab_type": "text"
      },
      "source": [
        "<a href=\"https://colab.research.google.com/github/thevivekrathi/RREF_matrix/blob/main/RREF_Matrix.ipynb\" target=\"_parent\"><img src=\"https://colab.research.google.com/assets/colab-badge.svg\" alt=\"Open In Colab\"/></a>"
      ]
    },
    {
      "cell_type": "markdown",
      "metadata": {
        "id": "HlgMz3VePd8-"
      },
      "source": [
        "## **Reduced Row Echelon Form of a Matrix (RREF)**\n",
        "\n",
        "### We'll look at what it means for a matrix to be in Reduced Row Echelon Form (often abbreviated as RREF). This form is very useful in solving systems of linear equations as the solutions to a linear system become a lot more obvious. We will now define what it means for an m×n matrix A to be in this form.\n",
        "\n",
        "### **Definition**: Let A be an m×n matrix. Then A is said to be in **Reduced Row Echelon Form** if A satisfies the following four properties,\n",
        "\n",
        "1. All of the rows that do not consist entirely of zeroes will have their first nonzero entries be **1** which we defined as **leading 1s**.\n",
        "2. For any two rows that are not entirely comprised of zeroes, the leading 1 in the row below occurs farther to the right than the leading **1** in the higher rows.\n",
        "3. Any rows consisting entirely of zeroes are placed at the bottom of the matrix.\n",
        "4. Every column that contains a leading **1** must have zeros everywhere else in that column.\n",
        "For example, the following matrices A, B, C and D are all in RREF.\n",
        "\n",
        "$\n",
        "A = \n",
        "\\begin{bmatrix}\n",
        "1&0&1&0 \\\\\n",
        "0&1&0&2\n",
        "\\end{bmatrix}\n",
        "$,\n",
        "$\n",
        "B = \n",
        "\\begin{bmatrix}\n",
        "1&0&0 \\\\\n",
        "0&1&0 \\\\\n",
        "0&0&1\n",
        "\\end{bmatrix}\n",
        "$,\n",
        "$\n",
        "C = \n",
        "\\begin{bmatrix}\n",
        "1&0 \\\\\n",
        "0&1 \\\\\n",
        "0&0 \\\\\n",
        "0&0 \\\\\n",
        "0&0 \n",
        "\\end{bmatrix}\n",
        "$,\n",
        "$\n",
        "D = \n",
        "\\begin{bmatrix}\n",
        "1&2&0&1&0&0 \\\\\n",
        "0&0&0&3&0&0 \\\\\n",
        "1&2&0&1&0&0 \\\\\n",
        "0&0&1&3&1&0 \\\\\n",
        "0&0&0&0&0&1 \\\\\n",
        "\\end{bmatrix}\n",
        "$,\n",
        "\n",
        "\n",
        "### Notice that how in all of the matrices above, if a column contains a leading 1 then the rest of the entries in that column are zeroes. That is essentially the only difference between REF and RREF. Like with turning a matrix into REF with elementary row operations, we can also do the same for RREF. The strategy is to first convert a matrix to REF and is best explained with an example.\n",
        "\n",
        "## Example 1\n",
        "### Use elementary row operations to take the following matrix $A=\\begin{bmatrix} 3&1 \\\\ 3&4 \\end{bmatrix}$ and convert it into RREF:\n",
        "\n",
        "### Our first step is to take **row 1** and multiply it by $\\frac{1}{3} (\\frac{1}{3}R1 -> R1)$:\n",
        "\n",
        "### $\\begin{bmatrix} 1&\\frac{1}{3} \\\\ 3&4 \\end{bmatrix}$\n",
        "\n",
        "### Now let's take **row 2** and multiply it by $\\frac{1}{3} (\\frac{1}{3}R2->R2)$:\n",
        "\n",
        "### $\\begin{bmatrix} 1&\\frac{1}{3} \\\\ 1&\\frac{4}{3} \\end{bmatrix}$\n",
        "\n",
        "### Now take **row 2** and subtract **row 1** from it $(R2−R1->R2)$:\n",
        "\n",
        "### $\\begin{bmatrix} 1&\\frac{1}{3} \\\\ 0&1 \\end{bmatrix}$\n",
        "\n",
        "### This matrix is now in **REF**. To turn it into **RREF**, we will in a sense work backwards. We will take **row 1** and subtract **3** times **row 2** $(R1−3R2->R1)$:\n",
        "\n",
        "### $\\begin{bmatrix} 1&0 \\\\ 0&1 \\end{bmatrix}$\n",
        "\n",
        "### Hence we are done as the resulting matrix satisfies all four conditions to be in RREF.\n",
        "\n",
        "### Please go through te following links for more information on RREF:\n",
        "\n",
        "[Row Echelon Form & Reduced Row Echelon Form](https://www.statisticshowto.com/matrices-and-matrix-algebra/reduced-row-echelon-form-2/)\n",
        "\n",
        "[Reduced Row Echelon Form of a Matrix (RREF)](http://mathonline.wikidot.com/reduced-row-echelon-form-of-a-matrix-rref)"
      ]
    },
    {
      "cell_type": "code",
      "metadata": {
        "id": "kUiJxBmbLygK"
      },
      "source": [
        "def RREF(strArr):\n",
        "  rows = strArr.count('<>') + 1\n",
        "  cols = strArr.index('<>')\n",
        "  \"\"\"try:\n",
        "    cols = strArr.index('<>')\n",
        "  except:\n",
        "    cols = len(strArr)\"\"\"\n",
        "\n",
        "  matrix ={}\n",
        "\n",
        "  for i in range(0, rows):\n",
        "    matrix[i] = {}\n",
        "    for j in range(0, cols):\n",
        "      matrix[i][j]= float(strArr.pop(0))\n",
        "    if (strArr):\n",
        "      strArr.pop(0)\n",
        "\n",
        "  for p in range(0, min(cols, rows)):\n",
        "\n",
        "    rmax = p\n",
        "    for i in range(p + 1, min(cols, rows)):\n",
        "      if abs(matrix[i][p]) > abs(matrix[rmax][p]):\n",
        "        rmax = i\n",
        "    if rmax != p:\n",
        "      matrix[p], matrix[rmax] = matrix[rmax], matrix[p]\n",
        "\n",
        "    for k in range(p, cols):\n",
        "      if matrix[p][k] != 0: \n",
        "        break\n",
        "    if matrix[p][k] == 0:\n",
        "        break\n",
        "    for j in range(cols - 1, k - 1, -1):\n",
        "        matrix[p][j] /= matrix[p][k]\n",
        "\n",
        "    for i in range(p + 1, rows):\n",
        "        for j in range(cols - 1, p - 1, -1):\n",
        "          matrix[i][j] -= matrix[i][p] * matrix[p][j]\n",
        "\n",
        "    for i in range(0, p):\n",
        "        for j in range(0, cols):\n",
        "          matrix[i][j] -= matrix[p][j] * matrix[i][j]\n",
        "\n",
        "  result = ''\n",
        "  for i in range(0,rows):\n",
        "    result += ''.join([str(int(matrix[i][j])) for j in range(0,cols)])\n",
        "  return result\n"
      ],
      "execution_count": 3,
      "outputs": []
    },
    {
      "cell_type": "code",
      "metadata": {
        "id": "X8Ujo25ZWROd"
      },
      "source": [
        "a = [\"2\",\"4\",\"8\",\"<>\",\"6\",\"12\",\"14\"]"
      ],
      "execution_count": 4,
      "outputs": []
    },
    {
      "cell_type": "code",
      "metadata": {
        "colab": {
          "base_uri": "https://localhost:8080/",
          "height": 35
        },
        "id": "QWespF-3Wiyi",
        "outputId": "8381c48b-3d03-4dcb-eef6-9b34032ffc38"
      },
      "source": [
        "RREF(a)"
      ],
      "execution_count": 5,
      "outputs": [
        {
          "output_type": "execute_result",
          "data": {
            "application/vnd.google.colaboratory.intrinsic+json": {
              "type": "string"
            },
            "text/plain": [
              "'120001'"
            ]
          },
          "metadata": {
            "tags": []
          },
          "execution_count": 5
        }
      ]
    },
    {
      "cell_type": "code",
      "metadata": {
        "id": "JgLfqyn7Wh7J"
      },
      "source": [
        "b = [\"2\",\"2\",\"4\",\"<>\",\"1\",\"1\",\"8\",\"<>\",\"7\",\"6\",\"5\"]"
      ],
      "execution_count": 6,
      "outputs": []
    },
    {
      "cell_type": "code",
      "metadata": {
        "colab": {
          "base_uri": "https://localhost:8080/",
          "height": 35
        },
        "id": "ZTzHjoPPW47V",
        "outputId": "7ec11c8c-afd2-49fc-b8e7-de0672f2941f"
      },
      "source": [
        "RREF(b)"
      ],
      "execution_count": 7,
      "outputs": [
        {
          "output_type": "execute_result",
          "data": {
            "application/vnd.google.colaboratory.intrinsic+json": {
              "type": "string"
            },
            "text/plain": [
              "'100010001'"
            ]
          },
          "metadata": {
            "tags": []
          },
          "execution_count": 7
        }
      ]
    },
    {
      "cell_type": "code",
      "metadata": {
        "id": "Fu6NkEliW6BM"
      },
      "source": [
        ""
      ],
      "execution_count": null,
      "outputs": []
    }
  ]
}